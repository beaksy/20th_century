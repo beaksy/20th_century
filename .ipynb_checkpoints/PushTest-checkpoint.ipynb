{
 "cells": [
  {
   "cell_type": "markdown",
   "id": "b6c20c4b-31ce-4a04-894f-927dbf2aadbd",
   "metadata": {},
   "source": [
    "This is a test!"
   ]
  },
  {
   "cell_type": "code",
   "execution_count": 1,
   "id": "84d65f70-65e2-49c2-ab42-f3962f39f8e6",
   "metadata": {},
   "outputs": [
    {
     "data": {
      "text/plain": [
       "2"
      ]
     },
     "execution_count": 1,
     "metadata": {},
     "output_type": "execute_result"
    }
   ],
   "source": [
    "1+1"
   ]
  },
  {
   "cell_type": "code",
   "execution_count": null,
   "id": "8aea0b86-cba7-4311-a1d2-37c37e093e02",
   "metadata": {},
   "outputs": [],
   "source": []
  }
 ],
 "metadata": {
  "kernelspec": {
   "display_name": "Python 3 (ipykernel)",
   "language": "python",
   "name": "python3"
  },
  "language_info": {
   "codemirror_mode": {
    "name": "ipython",
    "version": 3
   },
   "file_extension": ".py",
   "mimetype": "text/x-python",
   "name": "python",
   "nbconvert_exporter": "python",
   "pygments_lexer": "ipython3",
   "version": "3.10.16"
  }
 },
 "nbformat": 4,
 "nbformat_minor": 5
}
